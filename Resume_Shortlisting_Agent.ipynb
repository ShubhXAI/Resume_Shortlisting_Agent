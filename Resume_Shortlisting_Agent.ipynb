{
  "cells": [
    {
      "cell_type": "code",
      "execution_count": 18,
      "metadata": {
        "colab": {
          "base_uri": "https://localhost:8080/"
        },
        "id": "lyaQiaOKxQZN",
        "outputId": "90f712e4-e903-4bd4-8fa0-24bc2182d9bc"
      },
      "outputs": [
        {
          "name": "stdout",
          "output_type": "stream",
          "text": [
            "Requirement already satisfied: langchain in d:\\resume_agent\\.venv\\lib\\site-packages (0.3.26)\n",
            "Requirement already satisfied: langchain_core in d:\\resume_agent\\.venv\\lib\\site-packages (0.3.69)\n",
            "Requirement already satisfied: langchain_community in d:\\resume_agent\\.venv\\lib\\site-packages (0.3.27)\n",
            "Requirement already satisfied: langgraph in d:\\resume_agent\\.venv\\lib\\site-packages (0.5.3)\n",
            "Requirement already satisfied: langchain_groq in d:\\resume_agent\\.venv\\lib\\site-packages (0.3.6)\n",
            "Requirement already satisfied: pypdf in d:\\resume_agent\\.venv\\lib\\site-packages (5.8.0)\n",
            "Requirement already satisfied: pydantic in d:\\resume_agent\\.venv\\lib\\site-packages (2.11.7)\n",
            "Requirement already satisfied: langchain-text-splitters<1.0.0,>=0.3.8 in d:\\resume_agent\\.venv\\lib\\site-packages (from langchain) (0.3.8)\n",
            "Requirement already satisfied: langsmith>=0.1.17 in d:\\resume_agent\\.venv\\lib\\site-packages (from langchain) (0.4.8)\n",
            "Requirement already satisfied: SQLAlchemy<3,>=1.4 in d:\\resume_agent\\.venv\\lib\\site-packages (from langchain) (2.0.41)\n",
            "Requirement already satisfied: requests<3,>=2 in d:\\resume_agent\\.venv\\lib\\site-packages (from langchain) (2.32.4)\n",
            "Requirement already satisfied: PyYAML>=5.3 in d:\\resume_agent\\.venv\\lib\\site-packages (from langchain) (6.0.2)\n",
            "Requirement already satisfied: tenacity!=8.4.0,<10.0.0,>=8.1.0 in d:\\resume_agent\\.venv\\lib\\site-packages (from langchain_core) (9.1.2)\n",
            "Requirement already satisfied: jsonpatch<2.0,>=1.33 in d:\\resume_agent\\.venv\\lib\\site-packages (from langchain_core) (1.33)\n",
            "Requirement already satisfied: typing-extensions>=4.7 in d:\\resume_agent\\.venv\\lib\\site-packages (from langchain_core) (4.14.1)\n",
            "Requirement already satisfied: packaging>=23.2 in d:\\resume_agent\\.venv\\lib\\site-packages (from langchain_core) (25.0)\n",
            "Requirement already satisfied: annotated-types>=0.6.0 in d:\\resume_agent\\.venv\\lib\\site-packages (from pydantic) (0.7.0)\n",
            "Requirement already satisfied: pydantic-core==2.33.2 in d:\\resume_agent\\.venv\\lib\\site-packages (from pydantic) (2.33.2)\n",
            "Requirement already satisfied: typing-inspection>=0.4.0 in d:\\resume_agent\\.venv\\lib\\site-packages (from pydantic) (0.4.1)\n",
            "Requirement already satisfied: jsonpointer>=1.9 in d:\\resume_agent\\.venv\\lib\\site-packages (from jsonpatch<2.0,>=1.33->langchain_core) (3.0.0)\n",
            "Requirement already satisfied: charset_normalizer<4,>=2 in d:\\resume_agent\\.venv\\lib\\site-packages (from requests<3,>=2->langchain) (3.4.2)\n",
            "Requirement already satisfied: idna<4,>=2.5 in d:\\resume_agent\\.venv\\lib\\site-packages (from requests<3,>=2->langchain) (3.10)\n",
            "Requirement already satisfied: urllib3<3,>=1.21.1 in d:\\resume_agent\\.venv\\lib\\site-packages (from requests<3,>=2->langchain) (2.5.0)\n",
            "Requirement already satisfied: certifi>=2017.4.17 in d:\\resume_agent\\.venv\\lib\\site-packages (from requests<3,>=2->langchain) (2025.7.14)\n",
            "Requirement already satisfied: greenlet>=1 in d:\\resume_agent\\.venv\\lib\\site-packages (from SQLAlchemy<3,>=1.4->langchain) (3.2.3)\n",
            "Requirement already satisfied: aiohttp<4.0.0,>=3.8.3 in d:\\resume_agent\\.venv\\lib\\site-packages (from langchain_community) (3.12.14)\n",
            "Requirement already satisfied: dataclasses-json<0.7,>=0.5.7 in d:\\resume_agent\\.venv\\lib\\site-packages (from langchain_community) (0.6.7)\n",
            "Requirement already satisfied: pydantic-settings<3.0.0,>=2.4.0 in d:\\resume_agent\\.venv\\lib\\site-packages (from langchain_community) (2.10.1)\n",
            "Requirement already satisfied: httpx-sse<1.0.0,>=0.4.0 in d:\\resume_agent\\.venv\\lib\\site-packages (from langchain_community) (0.4.1)\n",
            "Requirement already satisfied: numpy>=2.1.0 in d:\\resume_agent\\.venv\\lib\\site-packages (from langchain_community) (2.3.1)\n",
            "Requirement already satisfied: aiohappyeyeballs>=2.5.0 in d:\\resume_agent\\.venv\\lib\\site-packages (from aiohttp<4.0.0,>=3.8.3->langchain_community) (2.6.1)\n",
            "Requirement already satisfied: aiosignal>=1.4.0 in d:\\resume_agent\\.venv\\lib\\site-packages (from aiohttp<4.0.0,>=3.8.3->langchain_community) (1.4.0)\n",
            "Requirement already satisfied: attrs>=17.3.0 in d:\\resume_agent\\.venv\\lib\\site-packages (from aiohttp<4.0.0,>=3.8.3->langchain_community) (25.3.0)\n",
            "Requirement already satisfied: frozenlist>=1.1.1 in d:\\resume_agent\\.venv\\lib\\site-packages (from aiohttp<4.0.0,>=3.8.3->langchain_community) (1.7.0)\n",
            "Requirement already satisfied: multidict<7.0,>=4.5 in d:\\resume_agent\\.venv\\lib\\site-packages (from aiohttp<4.0.0,>=3.8.3->langchain_community) (6.6.3)\n",
            "Requirement already satisfied: propcache>=0.2.0 in d:\\resume_agent\\.venv\\lib\\site-packages (from aiohttp<4.0.0,>=3.8.3->langchain_community) (0.3.2)\n",
            "Requirement already satisfied: yarl<2.0,>=1.17.0 in d:\\resume_agent\\.venv\\lib\\site-packages (from aiohttp<4.0.0,>=3.8.3->langchain_community) (1.20.1)\n",
            "Requirement already satisfied: marshmallow<4.0.0,>=3.18.0 in d:\\resume_agent\\.venv\\lib\\site-packages (from dataclasses-json<0.7,>=0.5.7->langchain_community) (3.26.1)\n",
            "Requirement already satisfied: typing-inspect<1,>=0.4.0 in d:\\resume_agent\\.venv\\lib\\site-packages (from dataclasses-json<0.7,>=0.5.7->langchain_community) (0.9.0)\n",
            "Requirement already satisfied: python-dotenv>=0.21.0 in d:\\resume_agent\\.venv\\lib\\site-packages (from pydantic-settings<3.0.0,>=2.4.0->langchain_community) (1.1.1)\n",
            "Requirement already satisfied: mypy-extensions>=0.3.0 in d:\\resume_agent\\.venv\\lib\\site-packages (from typing-inspect<1,>=0.4.0->dataclasses-json<0.7,>=0.5.7->langchain_community) (1.1.0)\n",
            "Requirement already satisfied: langgraph-checkpoint<3.0.0,>=2.1.0 in d:\\resume_agent\\.venv\\lib\\site-packages (from langgraph) (2.1.1)\n",
            "Requirement already satisfied: langgraph-prebuilt<0.6.0,>=0.5.0 in d:\\resume_agent\\.venv\\lib\\site-packages (from langgraph) (0.5.2)\n",
            "Requirement already satisfied: langgraph-sdk<0.2.0,>=0.1.42 in d:\\resume_agent\\.venv\\lib\\site-packages (from langgraph) (0.1.73)\n",
            "Requirement already satisfied: xxhash>=3.5.0 in d:\\resume_agent\\.venv\\lib\\site-packages (from langgraph) (3.5.0)\n",
            "Requirement already satisfied: ormsgpack>=1.10.0 in d:\\resume_agent\\.venv\\lib\\site-packages (from langgraph-checkpoint<3.0.0,>=2.1.0->langgraph) (1.10.0)\n",
            "Requirement already satisfied: httpx>=0.25.2 in d:\\resume_agent\\.venv\\lib\\site-packages (from langgraph-sdk<0.2.0,>=0.1.42->langgraph) (0.28.1)\n",
            "Requirement already satisfied: orjson>=3.10.1 in d:\\resume_agent\\.venv\\lib\\site-packages (from langgraph-sdk<0.2.0,>=0.1.42->langgraph) (3.11.0)\n",
            "Requirement already satisfied: groq<1,>=0.29.0 in d:\\resume_agent\\.venv\\lib\\site-packages (from langchain_groq) (0.30.0)\n",
            "Requirement already satisfied: anyio<5,>=3.5.0 in d:\\resume_agent\\.venv\\lib\\site-packages (from groq<1,>=0.29.0->langchain_groq) (4.9.0)\n",
            "Requirement already satisfied: distro<2,>=1.7.0 in d:\\resume_agent\\.venv\\lib\\site-packages (from groq<1,>=0.29.0->langchain_groq) (1.9.0)\n",
            "Requirement already satisfied: sniffio in d:\\resume_agent\\.venv\\lib\\site-packages (from groq<1,>=0.29.0->langchain_groq) (1.3.1)\n",
            "Requirement already satisfied: httpcore==1.* in d:\\resume_agent\\.venv\\lib\\site-packages (from httpx>=0.25.2->langgraph-sdk<0.2.0,>=0.1.42->langgraph) (1.0.9)\n",
            "Requirement already satisfied: h11>=0.16 in d:\\resume_agent\\.venv\\lib\\site-packages (from httpcore==1.*->httpx>=0.25.2->langgraph-sdk<0.2.0,>=0.1.42->langgraph) (0.16.0)\n",
            "Requirement already satisfied: requests-toolbelt<2.0.0,>=1.0.0 in d:\\resume_agent\\.venv\\lib\\site-packages (from langsmith>=0.1.17->langchain) (1.0.0)\n",
            "Requirement already satisfied: zstandard<0.24.0,>=0.23.0 in d:\\resume_agent\\.venv\\lib\\site-packages (from langsmith>=0.1.17->langchain) (0.23.0)\n"
          ]
        }
      ],
      "source": [
        "!pip install langchain langchain_core langchain_community langgraph langchain_groq pypdf pydantic"
      ]
    },
    {
      "cell_type": "code",
      "execution_count": 39,
      "metadata": {},
      "outputs": [],
      "source": [
        "from langchain_groq import ChatGroq\n",
        "from langchain_core.pydantic_v1 import BaseModel, Field\n",
        "from typing_extensions import TypedDict\n",
        "from typing_extensions import TypedDict\n",
        "from langgraph.graph import StateGraph, START, END\n",
        "from langchain_core.messages import SystemMessage, HumanMessage\n",
        "from IPython.display import Image, display\n",
        "from langchain_community.document_loaders import PyPDFLoader"
      ]
    },
    {
      "cell_type": "code",
      "execution_count": null,
      "metadata": {
        "id": "_44bymdC05HI"
      },
      "outputs": [],
      "source": [
        "\n",
        "\n",
        "import os\n",
        "from dotenv import load_dotenv\n",
        "# LLM Setup\n",
        "llm = ChatGroq(\n",
        "    model=\"llama3-8b-8192\",api_key=os.getenv(\"api_key\")\n",
        ")"
      ]
    },
    {
      "cell_type": "code",
      "execution_count": null,
      "metadata": {},
      "outputs": [],
      "source": [
        "\n",
        "from typing import Literal\n",
        "class Route(BaseModel):\n",
        "    \"\"\"The schema for our router's output.\"\"\"\n",
        "    step: Literal[\"shortlist\", \"reject\", \"escalate\"] = Field(\n",
        "        None, description=\"The routing decision for the candidate's application.\"\n",
        "    )"
      ]
    },
    {
      "cell_type": "code",
      "execution_count": null,
      "metadata": {
        "id": "CNn_I9Im3rdX"
      },
      "outputs": [],
      "source": [
        "\n",
        "class State(TypedDict):\n",
        "    \"\"\"The state of our graph.\"\"\"\n",
        "    application: str  # The input resume text\n",
        "    decision: str     # The routing decision from the router node\n",
        "    response: str     # The final human-readable response"
      ]
    },
    {
      "cell_type": "code",
      "execution_count": 22,
      "metadata": {},
      "outputs": [],
      "source": [
        "#Create a specialized LLM that will return structured output matching our Route schema\n",
        "router_llm = llm.with_structured_output(Route)"
      ]
    },
    {
      "cell_type": "code",
      "execution_count": null,
      "metadata": {
        "id": "zeJmGNkHN3g2"
      },
      "outputs": [],
      "source": [
        "\n",
        "\n",
        "workflow = StateGraph(State)"
      ]
    },
    {
      "cell_type": "code",
      "execution_count": 24,
      "metadata": {
        "id": "aDmawPyFV92e"
      },
      "outputs": [],
      "source": [
        "from langchain_core.prompts import ChatPromptTemplate"
      ]
    },
    {
      "cell_type": "code",
      "execution_count": null,
      "metadata": {
        "id": "siRlGmb5Vs1r"
      },
      "outputs": [],
      "source": [
        "\n",
        "def screener_router_node(state: State):\n",
        "    \"\"\"\n",
        "    This is the intelligent router. It analyzes the resume and makes a structured\n",
        "    decision on the next step.\n",
        "    \"\"\"\n",
        "    print(\"\\n➡️ Analyzing resume and making a routing decision...\")\n",
        "    prompt = [\n",
        "        SystemMessage(\n",
        "            content=(\n",
        "                '''You are a top-tier Senior Data Science Manager and an expert talent scout for a forward-thinking tech company in mid-2025. Your task is to perform an in-depth analysis of the provided resume for a **General Data Scientist** position. You must evaluate the candidate's skills, experience, and project impact to determine the next step in the hiring process.\n",
        "\n",
        "        **PROFILE OF AN IDEAL CANDIDATE:**\n",
        "        An ideal candidate demonstrates a blend of theoretical knowledge and practical application across several key areas:\n",
        "        - **Core Technical Skills:** Proficient in Python (with libraries like Pandas, NumPy, Scikit-learn, Matplotlib/Seaborn) and strong SQL skills for data extraction and manipulation.\n",
        "        - **Machine Learning Expertise:** Hands-on experience building and deploying various ML models (e.g., classification, regression, clustering). They should be able to discuss model evaluation, feature engineering, and the trade-offs of different algorithms.\n",
        "        - **Project Impact:** Has worked on end-to-end projects and can articulate the business value or impact of their work, preferably with quantifiable metrics (e.g., improved model accuracy by X%, reduced operational costs, etc.).\n",
        "        - **Modern Skills (Highly Desirable):** Experience with more advanced topics such as Deep Learning (TensorFlow/PyTorch), MLOps, cloud data platforms (AWS, GCP, Azure), or Generative AI (LLMs, RAG, LangChain) is a significant plus.\n",
        "\n",
        "        **YOUR DECISION-MAKING FRAMEWORK:**\n",
        "        Follow these rules in order to make your final decision. Your output must be a single, structured decision.\n",
        "\n",
        "        1.  **'shortlist' Rule (Primary Filter):**\n",
        "            You will decide **'shortlist'** if the candidate's resume clearly demonstrates **ALL** of the following:\n",
        "            - Proficiency in Python and SQL.\n",
        "            - Hands-on experience with core machine learning models (classification, regression, etc.).\n",
        "            - At least one project where they describe the process from data gathering to model evaluation.\n",
        "\n",
        "        2.  **'escalate' Rule (Interesting Edge Cases):**\n",
        "            If the 'shortlist' criteria are NOT fully met, you will decide **'escalate'** for further review if the candidate fits one of these profiles:\n",
        "            - **The Senior Specialist:** Has significant senior-level experience (e.g., 8+ years) in a related field like Software Engineering, Data Engineering, or traditional Business Intelligence, but lacks direct, modern ML project experience. They show strong foundational skills that could be transferable.\n",
        "            - **The Gen AI Prodigy:** A more junior candidate who lacks broad project experience but demonstrates exceptional, cutting-edge skills in Generative AI or Deep Learning on personal or academic projects.\n",
        "\n",
        "        3.  **'reject' Rule (Catch-All):**\n",
        "            If the candidate does not meet any of the criteria for 'shortlist' or 'escalate', you will decide **'reject'**. This includes resumes that are focused only on basic data analysis/reporting (e.g., Excel, SQL queries without statistical modeling), show no evidence of programming or machine learning projects, or are otherwise not a fit for the role.'''\n",
        "            )\n",
        "        ),\n",
        "        HumanMessage(content=state[\"application\"]),\n",
        "    ]\n",
        "    # Invoke the specialized router LLM\n",
        "    decision = router_llm.invoke(prompt)\n",
        "    print(f\"✅ Routing decision: '{decision.step}'\")\n",
        "    return {\"decision\": decision.step}\n",
        "\n",
        "\n",
        "# These nodes are now simple workers; they just generate the final response text.\n",
        "def schedule_hr_interview(state: State) -> State:\n",
        "    return {\"response\": \"Candidate has been shortlisted for an HR interview.\"}\n",
        "\n",
        "def escalate_to_recruiter(state: State) -> State:\n",
        "    return {\"response\": \"Candidate has senior-level experience but doesn't match job skills. Escalate to recruiter.\"}\n",
        "\n",
        "def reject_application(state: State) -> State:\n",
        "    return {\"response\": \"Candidate doesn't meet the job description and has been rejected.\"}\n"
      ]
    },
    {
      "cell_type": "code",
      "execution_count": 33,
      "metadata": {},
      "outputs": [],
      "source": [
        "def route_decision(state: State):\n",
        "    \"\"\"A simple function to map the decision to the correct node.\"\"\"\n",
        "    return state[\"decision\"]"
      ]
    },
    {
      "cell_type": "code",
      "execution_count": 34,
      "metadata": {
        "colab": {
          "base_uri": "https://localhost:8080/"
        },
        "id": "VbZAi69cY8KL",
        "outputId": "d3d0cbdf-265c-4540-adcd-36dcc71c755b"
      },
      "outputs": [
        {
          "data": {
            "text/plain": [
              "<langgraph.graph.state.StateGraph at 0x284fad9f230>"
            ]
          },
          "execution_count": 34,
          "metadata": {},
          "output_type": "execute_result"
        }
      ],
      "source": [
        "workflow = StateGraph(State)\n",
        "\n",
        "# Add the nodes\n",
        "workflow.add_node(\"screener_router\", screener_router_node)\n",
        "workflow.add_node(\"shortlist\", schedule_hr_interview)\n",
        "workflow.add_node(\"escalate\", escalate_to_recruiter)\n",
        "workflow.add_node(\"reject\", reject_application)"
      ]
    },
    {
      "cell_type": "code",
      "execution_count": 35,
      "metadata": {},
      "outputs": [
        {
          "data": {
            "text/plain": [
              "<langgraph.graph.state.StateGraph at 0x284fad9f230>"
            ]
          },
          "execution_count": 35,
          "metadata": {},
          "output_type": "execute_result"
        }
      ],
      "source": [
        "# Define the graph's flow\n",
        "workflow.set_entry_point(\"screener_router\")\n",
        "workflow.add_conditional_edges(\n",
        "    \"screener_router\",\n",
        "    route_decision,\n",
        "    # The dictionary maps the output of the 'route_decision' function\n",
        "    # to the name of the next node to visit.\n",
        "    {\n",
        "        \"shortlist\": \"shortlist\",\n",
        "        \"escalate\": \"escalate\",\n",
        "        \"reject\": \"reject\",\n",
        "    },\n",
        ")\n",
        "\n",
        "workflow.add_edge(\"shortlist\", END)\n",
        "workflow.add_edge(\"escalate\", END)\n",
        "workflow.add_edge(\"reject\", END)"
      ]
    },
    {
      "cell_type": "code",
      "execution_count": null,
      "metadata": {
        "id": "LcUdHP1ThdR6"
      },
      "outputs": [
        {
          "name": "stdout",
          "output_type": "stream",
          "text": [
            "\n",
            "📊 Corrected Workflow Graph (using Structured Output Router):\n"
          ]
        },
        {
          "data": {
            "image/png": "[encoded data removed]",
            "text/plain": [
              "<IPython.core.display.Image object>"
            ]
          },
          "metadata": {},
          "output_type": "display_data"
        }
      ],
      "source": [
        "\n",
        "app = workflow.compile()\n",
        "print(\"\\n Workflow Graph (using Structured Output Router):\")\n",
        "display(Image(app.get_graph().draw_mermaid_png()))"
      ]
    },
    {
      "cell_type": "code",
      "execution_count": null,
      "metadata": {},
      "outputs": [],
      "source": [
        "\n",
        "#PDF PROCESSING & EXECUTION (WITH DETAILED REPORTING)\n",
        "\n",
        "def run_screening_workflow(pdf_path: str):\n",
        "    \"\"\"\n",
        "    Loads a PDF, runs the screening workflow, and prints a detailed report.\n",
        "    \"\"\"\n",
        "    print(f\"\\n📄 Loading PDF from: {pdf_path}\")\n",
        "    try:\n",
        "        loader = PyPDFLoader(pdf_path)\n",
        "        resume_text = \"\\n\".join([doc.page_content for doc in loader.load()])\n",
        "        print(\"✅ PDF text extracted successfully.\")\n",
        "    except Exception as e:\n",
        "        print(f\"\\n❌ ERROR: Failed to load or read the PDF file. Details: {e}\")\n",
        "        return\n",
        "\n",
        "    print(\"\\n🚀 Starting screening workflow...\")\n",
        "    # Invoke the workflow with the resume text\n",
        "    result = app.invoke({\"application\": resume_text})\n",
        "\n",
        "    # --- DETAILED REPORTING SECTION ---\n",
        "    print(\"\\n\\n\" + \"=\"*35)\n",
        "    print(\"      DETAILED SCREENING REPORT\")\n",
        "    print(\"=\"*35 + \"\\n\")\n",
        "    print(f\"📄 File Processed:\\n   {pdf_path}\\n\")\n",
        "    print(\"🧠 Analysis & Decision:\")\n",
        "    # This shows the internal decision from the 'screener_router_node'\n",
        "    print(f\"   - Internal Routing Decision: '{result.get('decision', 'N/A')}'\")\n",
        "    # This shows the final human-readable outcome\n",
        "    print(f\"   - Final Outcome: {result.get('response', 'N/A')}\\n\")\n",
        "    print(\"📝 Extracted Resume Snippet:\")\n",
        "    print(\"-\" * 28)\n",
        "    print(f\"{result.get('application', 'No text extracted.')[:400]}...\")\n",
        "    print(\"-\" * 28)\n",
        "\n",
        "\n",
        "\n",
        "# RUN THE APPLICATION\n",
        "\n",
        "\n",
        "try:\n",
        "    # --- PASTE YOUR PDF FILE PATH HERE ---\n",
        "    # For local files on Windows, it's good practice to use raw strings (r\"...\")\n",
        "    # or forward slashes to avoid issues with backslashes.\n",
        "    pdf_file_path = r\"Resume(DS).pdf\"\n",
        "\n",
        "    run_screening_workflow(pdf_file_path)\n",
        "\n",
        "except FileNotFoundError:\n",
        "    print(\"\\n\\n⚠️ ERROR: File not found.\")\n",
        "    print(\"Please make sure the file path is correct and the file exists at that location.\")\n",
        "except Exception as e:\n",
        "    print(f\"\\n\\nAn unexpected error occurred: {e}\")"
      ]
    },
    {
      "cell_type": "code",
      "execution_count": null,
      "metadata": {
        "id": "GRwnaqWfkyd4"
      },
      "outputs": [],
      "source": []
    }
  ],
  "metadata": {
    "colab": {
      "provenance": []
    },
    "kernelspec": {
      "display_name": ".venv",
      "language": "python",
      "name": "python3"
    },
    "language_info": {
      "codemirror_mode": {
        "name": "ipython",
        "version": 3
      },
      "file_extension": ".py",
      "mimetype": "text/x-python",
      "name": "python",
      "nbconvert_exporter": "python",
      "pygments_lexer": "ipython3",
      "version": "3.13.5"
    }
  },
  "nbformat": 4,
  "nbformat_minor": 0
}
